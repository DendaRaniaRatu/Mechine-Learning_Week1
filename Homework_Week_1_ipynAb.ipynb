{
  "nbformat": 4,
  "nbformat_minor": 0,
  "metadata": {
    "colab": {
      "name": "Homework Week 1 .ipynAb",
      "provenance": [],
      "mount_file_id": "1k7lFFnKS5ouVk2CNleuptiGQspeoIhxk",
      "authorship_tag": "ABX9TyNWMKaYBxK4BqWJBdRhCuT8",
      "include_colab_link": true
    },
    "kernelspec": {
      "name": "python3",
      "display_name": "Python 3"
    },
    "language_info": {
      "name": "python"
    }
  },
  "cells": [
    {
      "cell_type": "markdown",
      "metadata": {
        "id": "view-in-github",
        "colab_type": "text"
      },
      "source": [
        "<a href=\"https://colab.research.google.com/github/DendaRaniaRatu/Mechine-Learning_Week1/blob/main/Homework_Week_1_ipynAb.ipynb\" target=\"_parent\"><img src=\"https://colab.research.google.com/assets/colab-badge.svg\" alt=\"Open In Colab\"/></a>"
      ]
    },
    {
      "cell_type": "code",
      "metadata": {
        "id": "RbFY8qzdDLM-"
      },
      "source": [
        "import pandas as pd"
      ],
      "execution_count": null,
      "outputs": []
    },
    {
      "cell_type": "code",
      "metadata": {
        "colab": {
          "base_uri": "https://localhost:8080/"
        },
        "id": "qJqlMTuYHgM7",
        "outputId": "a4e67ac6-37ea-4957-dbec-68eb6bfd5a61"
      },
      "source": [
        "from google.colab import drive\n",
        "drive.mount('/content/gdrive')"
      ],
      "execution_count": null,
      "outputs": [
        {
          "output_type": "stream",
          "name": "stdout",
          "text": [
            "Mounted at /content/gdrive\n"
          ]
        }
      ]
    },
    {
      "cell_type": "markdown",
      "metadata": {
        "id": "weuk5SyBmooe"
      },
      "source": [
        "2. Basic Data Exploration"
      ]
    },
    {
      "cell_type": "code",
      "metadata": {
        "colab": {
          "base_uri": "https://localhost:8080/",
          "height": 317
        },
        "id": "TcKYXL_fJhYO",
        "outputId": "7145f593-8523-4d5f-c655-d81b3d15d90f"
      },
      "source": [
        "# save filepath to variable for easier access\n",
        "melbourne_file_path = '../content/drive/My Drive/dataset/melb_data.csv'\n",
        "# read the data and store data in DataFrame titled melbourne_data\n",
        "melbourne_data = pd.read_csv(melbourne_file_path)\n",
        "# print a summary of the data in Melbourne data\n",
        "melbourne_data.describe()"
      ],
      "execution_count": null,
      "outputs": [
        {
          "output_type": "execute_result",
          "data": {
            "text/html": [
              "<div>\n",
              "<style scoped>\n",
              "    .dataframe tbody tr th:only-of-type {\n",
              "        vertical-align: middle;\n",
              "    }\n",
              "\n",
              "    .dataframe tbody tr th {\n",
              "        vertical-align: top;\n",
              "    }\n",
              "\n",
              "    .dataframe thead th {\n",
              "        text-align: right;\n",
              "    }\n",
              "</style>\n",
              "<table border=\"1\" class=\"dataframe\">\n",
              "  <thead>\n",
              "    <tr style=\"text-align: right;\">\n",
              "      <th></th>\n",
              "      <th>Rooms</th>\n",
              "      <th>Price</th>\n",
              "      <th>Distance</th>\n",
              "      <th>Postcode</th>\n",
              "      <th>Bedroom2</th>\n",
              "      <th>Bathroom</th>\n",
              "      <th>Car</th>\n",
              "      <th>Landsize</th>\n",
              "      <th>BuildingArea</th>\n",
              "      <th>YearBuilt</th>\n",
              "      <th>Lattitude</th>\n",
              "      <th>Longtitude</th>\n",
              "      <th>Propertycount</th>\n",
              "    </tr>\n",
              "  </thead>\n",
              "  <tbody>\n",
              "    <tr>\n",
              "      <th>count</th>\n",
              "      <td>13580.000000</td>\n",
              "      <td>1.358000e+04</td>\n",
              "      <td>13580.000000</td>\n",
              "      <td>13580.000000</td>\n",
              "      <td>13580.000000</td>\n",
              "      <td>13580.000000</td>\n",
              "      <td>13518.000000</td>\n",
              "      <td>13580.000000</td>\n",
              "      <td>7130.000000</td>\n",
              "      <td>8205.000000</td>\n",
              "      <td>13580.000000</td>\n",
              "      <td>13580.000000</td>\n",
              "      <td>13580.000000</td>\n",
              "    </tr>\n",
              "    <tr>\n",
              "      <th>mean</th>\n",
              "      <td>2.937997</td>\n",
              "      <td>1.075684e+06</td>\n",
              "      <td>10.137776</td>\n",
              "      <td>3105.301915</td>\n",
              "      <td>2.914728</td>\n",
              "      <td>1.534242</td>\n",
              "      <td>1.610075</td>\n",
              "      <td>558.416127</td>\n",
              "      <td>151.967650</td>\n",
              "      <td>1964.684217</td>\n",
              "      <td>-37.809203</td>\n",
              "      <td>144.995216</td>\n",
              "      <td>7454.417378</td>\n",
              "    </tr>\n",
              "    <tr>\n",
              "      <th>std</th>\n",
              "      <td>0.955748</td>\n",
              "      <td>6.393107e+05</td>\n",
              "      <td>5.868725</td>\n",
              "      <td>90.676964</td>\n",
              "      <td>0.965921</td>\n",
              "      <td>0.691712</td>\n",
              "      <td>0.962634</td>\n",
              "      <td>3990.669241</td>\n",
              "      <td>541.014538</td>\n",
              "      <td>37.273762</td>\n",
              "      <td>0.079260</td>\n",
              "      <td>0.103916</td>\n",
              "      <td>4378.581772</td>\n",
              "    </tr>\n",
              "    <tr>\n",
              "      <th>min</th>\n",
              "      <td>1.000000</td>\n",
              "      <td>8.500000e+04</td>\n",
              "      <td>0.000000</td>\n",
              "      <td>3000.000000</td>\n",
              "      <td>0.000000</td>\n",
              "      <td>0.000000</td>\n",
              "      <td>0.000000</td>\n",
              "      <td>0.000000</td>\n",
              "      <td>0.000000</td>\n",
              "      <td>1196.000000</td>\n",
              "      <td>-38.182550</td>\n",
              "      <td>144.431810</td>\n",
              "      <td>249.000000</td>\n",
              "    </tr>\n",
              "    <tr>\n",
              "      <th>25%</th>\n",
              "      <td>2.000000</td>\n",
              "      <td>6.500000e+05</td>\n",
              "      <td>6.100000</td>\n",
              "      <td>3044.000000</td>\n",
              "      <td>2.000000</td>\n",
              "      <td>1.000000</td>\n",
              "      <td>1.000000</td>\n",
              "      <td>177.000000</td>\n",
              "      <td>93.000000</td>\n",
              "      <td>1940.000000</td>\n",
              "      <td>-37.856822</td>\n",
              "      <td>144.929600</td>\n",
              "      <td>4380.000000</td>\n",
              "    </tr>\n",
              "    <tr>\n",
              "      <th>50%</th>\n",
              "      <td>3.000000</td>\n",
              "      <td>9.030000e+05</td>\n",
              "      <td>9.200000</td>\n",
              "      <td>3084.000000</td>\n",
              "      <td>3.000000</td>\n",
              "      <td>1.000000</td>\n",
              "      <td>2.000000</td>\n",
              "      <td>440.000000</td>\n",
              "      <td>126.000000</td>\n",
              "      <td>1970.000000</td>\n",
              "      <td>-37.802355</td>\n",
              "      <td>145.000100</td>\n",
              "      <td>6555.000000</td>\n",
              "    </tr>\n",
              "    <tr>\n",
              "      <th>75%</th>\n",
              "      <td>3.000000</td>\n",
              "      <td>1.330000e+06</td>\n",
              "      <td>13.000000</td>\n",
              "      <td>3148.000000</td>\n",
              "      <td>3.000000</td>\n",
              "      <td>2.000000</td>\n",
              "      <td>2.000000</td>\n",
              "      <td>651.000000</td>\n",
              "      <td>174.000000</td>\n",
              "      <td>1999.000000</td>\n",
              "      <td>-37.756400</td>\n",
              "      <td>145.058305</td>\n",
              "      <td>10331.000000</td>\n",
              "    </tr>\n",
              "    <tr>\n",
              "      <th>max</th>\n",
              "      <td>10.000000</td>\n",
              "      <td>9.000000e+06</td>\n",
              "      <td>48.100000</td>\n",
              "      <td>3977.000000</td>\n",
              "      <td>20.000000</td>\n",
              "      <td>8.000000</td>\n",
              "      <td>10.000000</td>\n",
              "      <td>433014.000000</td>\n",
              "      <td>44515.000000</td>\n",
              "      <td>2018.000000</td>\n",
              "      <td>-37.408530</td>\n",
              "      <td>145.526350</td>\n",
              "      <td>21650.000000</td>\n",
              "    </tr>\n",
              "  </tbody>\n",
              "</table>\n",
              "</div>"
            ],
            "text/plain": [
              "              Rooms         Price  ...    Longtitude  Propertycount\n",
              "count  13580.000000  1.358000e+04  ...  13580.000000   13580.000000\n",
              "mean       2.937997  1.075684e+06  ...    144.995216    7454.417378\n",
              "std        0.955748  6.393107e+05  ...      0.103916    4378.581772\n",
              "min        1.000000  8.500000e+04  ...    144.431810     249.000000\n",
              "25%        2.000000  6.500000e+05  ...    144.929600    4380.000000\n",
              "50%        3.000000  9.030000e+05  ...    145.000100    6555.000000\n",
              "75%        3.000000  1.330000e+06  ...    145.058305   10331.000000\n",
              "max       10.000000  9.000000e+06  ...    145.526350   21650.000000\n",
              "\n",
              "[8 rows x 13 columns]"
            ]
          },
          "metadata": {},
          "execution_count": 3
        }
      ]
    },
    {
      "cell_type": "code",
      "metadata": {
        "colab": {
          "base_uri": "https://localhost:8080/"
        },
        "id": "cHCn_ZxzMo7L",
        "outputId": "50f80d6e-6c7b-455c-aba2-1b1168798cad"
      },
      "source": [
        "melbourne_data.columns"
      ],
      "execution_count": null,
      "outputs": [
        {
          "output_type": "execute_result",
          "data": {
            "text/plain": [
              "Index(['Suburb', 'Address', 'Rooms', 'Type', 'Price', 'Method', 'SellerG',\n",
              "       'Date', 'Distance', 'Postcode', 'Bedroom2', 'Bathroom', 'Car',\n",
              "       'Landsize', 'BuildingArea', 'YearBuilt', 'CouncilArea', 'Lattitude',\n",
              "       'Longtitude', 'Regionname', 'Propertycount'],\n",
              "      dtype='object')"
            ]
          },
          "metadata": {},
          "execution_count": 4
        }
      ]
    },
    {
      "cell_type": "code",
      "metadata": {
        "id": "gdEj6is-NU5l"
      },
      "source": [
        "# dropna drops missing values (think of na as \"not available\")\n",
        "melbourne_data = melbourne_data.dropna(axis=0)"
      ],
      "execution_count": null,
      "outputs": []
    },
    {
      "cell_type": "code",
      "metadata": {
        "colab": {
          "base_uri": "https://localhost:8080/"
        },
        "id": "bP4H-s8TOvoK",
        "outputId": "d320e4e1-26d0-4a19-fd45-ee90139f06de"
      },
      "source": [
        "y = melbourne_data.Price\n",
        "y.describe()"
      ],
      "execution_count": null,
      "outputs": [
        {
          "output_type": "execute_result",
          "data": {
            "text/plain": [
              "count    6.196000e+03\n",
              "mean     1.068828e+06\n",
              "std      6.751564e+05\n",
              "min      1.310000e+05\n",
              "25%      6.200000e+05\n",
              "50%      8.800000e+05\n",
              "75%      1.325000e+06\n",
              "max      9.000000e+06\n",
              "Name: Price, dtype: float64"
            ]
          },
          "metadata": {},
          "execution_count": 6
        }
      ]
    },
    {
      "cell_type": "code",
      "metadata": {
        "id": "9g4zLjIqPYOH"
      },
      "source": [
        "melbourne_features = {'Rooms', 'Bathroom', 'Landsize', 'Lattitude', 'Longtitude'}"
      ],
      "execution_count": null,
      "outputs": []
    },
    {
      "cell_type": "code",
      "metadata": {
        "id": "QKZBMP4BQKNR"
      },
      "source": [
        "x = melbourne_data[melbourne_features]"
      ],
      "execution_count": null,
      "outputs": []
    },
    {
      "cell_type": "code",
      "metadata": {
        "colab": {
          "base_uri": "https://localhost:8080/",
          "height": 297
        },
        "id": "-8lEdCGdQKQj",
        "outputId": "f880ee85-6b6b-48a1-a06a-daeb8b655708"
      },
      "source": [
        "x.describe()"
      ],
      "execution_count": null,
      "outputs": [
        {
          "output_type": "execute_result",
          "data": {
            "text/html": [
              "<div>\n",
              "<style scoped>\n",
              "    .dataframe tbody tr th:only-of-type {\n",
              "        vertical-align: middle;\n",
              "    }\n",
              "\n",
              "    .dataframe tbody tr th {\n",
              "        vertical-align: top;\n",
              "    }\n",
              "\n",
              "    .dataframe thead th {\n",
              "        text-align: right;\n",
              "    }\n",
              "</style>\n",
              "<table border=\"1\" class=\"dataframe\">\n",
              "  <thead>\n",
              "    <tr style=\"text-align: right;\">\n",
              "      <th></th>\n",
              "      <th>Lattitude</th>\n",
              "      <th>Rooms</th>\n",
              "      <th>Bathroom</th>\n",
              "      <th>Longtitude</th>\n",
              "      <th>Landsize</th>\n",
              "    </tr>\n",
              "  </thead>\n",
              "  <tbody>\n",
              "    <tr>\n",
              "      <th>count</th>\n",
              "      <td>6196.000000</td>\n",
              "      <td>6196.000000</td>\n",
              "      <td>6196.000000</td>\n",
              "      <td>6196.000000</td>\n",
              "      <td>6196.000000</td>\n",
              "    </tr>\n",
              "    <tr>\n",
              "      <th>mean</th>\n",
              "      <td>-37.807904</td>\n",
              "      <td>2.931407</td>\n",
              "      <td>1.576340</td>\n",
              "      <td>144.990201</td>\n",
              "      <td>471.006940</td>\n",
              "    </tr>\n",
              "    <tr>\n",
              "      <th>std</th>\n",
              "      <td>0.075850</td>\n",
              "      <td>0.971079</td>\n",
              "      <td>0.711362</td>\n",
              "      <td>0.099165</td>\n",
              "      <td>897.449881</td>\n",
              "    </tr>\n",
              "    <tr>\n",
              "      <th>min</th>\n",
              "      <td>-38.164920</td>\n",
              "      <td>1.000000</td>\n",
              "      <td>1.000000</td>\n",
              "      <td>144.542370</td>\n",
              "      <td>0.000000</td>\n",
              "    </tr>\n",
              "    <tr>\n",
              "      <th>25%</th>\n",
              "      <td>-37.855438</td>\n",
              "      <td>2.000000</td>\n",
              "      <td>1.000000</td>\n",
              "      <td>144.926198</td>\n",
              "      <td>152.000000</td>\n",
              "    </tr>\n",
              "    <tr>\n",
              "      <th>50%</th>\n",
              "      <td>-37.802250</td>\n",
              "      <td>3.000000</td>\n",
              "      <td>1.000000</td>\n",
              "      <td>144.995800</td>\n",
              "      <td>373.000000</td>\n",
              "    </tr>\n",
              "    <tr>\n",
              "      <th>75%</th>\n",
              "      <td>-37.758200</td>\n",
              "      <td>4.000000</td>\n",
              "      <td>2.000000</td>\n",
              "      <td>145.052700</td>\n",
              "      <td>628.000000</td>\n",
              "    </tr>\n",
              "    <tr>\n",
              "      <th>max</th>\n",
              "      <td>-37.457090</td>\n",
              "      <td>8.000000</td>\n",
              "      <td>8.000000</td>\n",
              "      <td>145.526350</td>\n",
              "      <td>37000.000000</td>\n",
              "    </tr>\n",
              "  </tbody>\n",
              "</table>\n",
              "</div>"
            ],
            "text/plain": [
              "         Lattitude        Rooms     Bathroom   Longtitude      Landsize\n",
              "count  6196.000000  6196.000000  6196.000000  6196.000000   6196.000000\n",
              "mean    -37.807904     2.931407     1.576340   144.990201    471.006940\n",
              "std       0.075850     0.971079     0.711362     0.099165    897.449881\n",
              "min     -38.164920     1.000000     1.000000   144.542370      0.000000\n",
              "25%     -37.855438     2.000000     1.000000   144.926198    152.000000\n",
              "50%     -37.802250     3.000000     1.000000   144.995800    373.000000\n",
              "75%     -37.758200     4.000000     2.000000   145.052700    628.000000\n",
              "max     -37.457090     8.000000     8.000000   145.526350  37000.000000"
            ]
          },
          "metadata": {},
          "execution_count": 9
        }
      ]
    },
    {
      "cell_type": "code",
      "metadata": {
        "colab": {
          "base_uri": "https://localhost:8080/",
          "height": 204
        },
        "id": "DndpU5eOQZS7",
        "outputId": "3e962074-50b1-49e0-ad05-fa3e60ddc44f"
      },
      "source": [
        "x.head()"
      ],
      "execution_count": null,
      "outputs": [
        {
          "output_type": "execute_result",
          "data": {
            "text/html": [
              "<div>\n",
              "<style scoped>\n",
              "    .dataframe tbody tr th:only-of-type {\n",
              "        vertical-align: middle;\n",
              "    }\n",
              "\n",
              "    .dataframe tbody tr th {\n",
              "        vertical-align: top;\n",
              "    }\n",
              "\n",
              "    .dataframe thead th {\n",
              "        text-align: right;\n",
              "    }\n",
              "</style>\n",
              "<table border=\"1\" class=\"dataframe\">\n",
              "  <thead>\n",
              "    <tr style=\"text-align: right;\">\n",
              "      <th></th>\n",
              "      <th>Lattitude</th>\n",
              "      <th>Rooms</th>\n",
              "      <th>Bathroom</th>\n",
              "      <th>Longtitude</th>\n",
              "      <th>Landsize</th>\n",
              "    </tr>\n",
              "  </thead>\n",
              "  <tbody>\n",
              "    <tr>\n",
              "      <th>1</th>\n",
              "      <td>-37.8079</td>\n",
              "      <td>2</td>\n",
              "      <td>1.0</td>\n",
              "      <td>144.9934</td>\n",
              "      <td>156.0</td>\n",
              "    </tr>\n",
              "    <tr>\n",
              "      <th>2</th>\n",
              "      <td>-37.8093</td>\n",
              "      <td>3</td>\n",
              "      <td>2.0</td>\n",
              "      <td>144.9944</td>\n",
              "      <td>134.0</td>\n",
              "    </tr>\n",
              "    <tr>\n",
              "      <th>4</th>\n",
              "      <td>-37.8072</td>\n",
              "      <td>4</td>\n",
              "      <td>1.0</td>\n",
              "      <td>144.9941</td>\n",
              "      <td>120.0</td>\n",
              "    </tr>\n",
              "    <tr>\n",
              "      <th>6</th>\n",
              "      <td>-37.8024</td>\n",
              "      <td>3</td>\n",
              "      <td>2.0</td>\n",
              "      <td>144.9993</td>\n",
              "      <td>245.0</td>\n",
              "    </tr>\n",
              "    <tr>\n",
              "      <th>7</th>\n",
              "      <td>-37.8060</td>\n",
              "      <td>2</td>\n",
              "      <td>1.0</td>\n",
              "      <td>144.9954</td>\n",
              "      <td>256.0</td>\n",
              "    </tr>\n",
              "  </tbody>\n",
              "</table>\n",
              "</div>"
            ],
            "text/plain": [
              "   Lattitude  Rooms  Bathroom  Longtitude  Landsize\n",
              "1   -37.8079      2       1.0    144.9934     156.0\n",
              "2   -37.8093      3       2.0    144.9944     134.0\n",
              "4   -37.8072      4       1.0    144.9941     120.0\n",
              "6   -37.8024      3       2.0    144.9993     245.0\n",
              "7   -37.8060      2       1.0    144.9954     256.0"
            ]
          },
          "metadata": {},
          "execution_count": 10
        }
      ]
    },
    {
      "cell_type": "code",
      "metadata": {
        "colab": {
          "base_uri": "https://localhost:8080/",
          "height": 204
        },
        "id": "OsIix8SyQjVM",
        "outputId": "923649c4-3519-4e78-d465-4fd15cb92b89"
      },
      "source": [
        "x.tail()"
      ],
      "execution_count": null,
      "outputs": [
        {
          "output_type": "execute_result",
          "data": {
            "text/html": [
              "<div>\n",
              "<style scoped>\n",
              "    .dataframe tbody tr th:only-of-type {\n",
              "        vertical-align: middle;\n",
              "    }\n",
              "\n",
              "    .dataframe tbody tr th {\n",
              "        vertical-align: top;\n",
              "    }\n",
              "\n",
              "    .dataframe thead th {\n",
              "        text-align: right;\n",
              "    }\n",
              "</style>\n",
              "<table border=\"1\" class=\"dataframe\">\n",
              "  <thead>\n",
              "    <tr style=\"text-align: right;\">\n",
              "      <th></th>\n",
              "      <th>Lattitude</th>\n",
              "      <th>Rooms</th>\n",
              "      <th>Bathroom</th>\n",
              "      <th>Longtitude</th>\n",
              "      <th>Landsize</th>\n",
              "    </tr>\n",
              "  </thead>\n",
              "  <tbody>\n",
              "    <tr>\n",
              "      <th>12205</th>\n",
              "      <td>-37.51232</td>\n",
              "      <td>3</td>\n",
              "      <td>2.0</td>\n",
              "      <td>145.13282</td>\n",
              "      <td>972.0</td>\n",
              "    </tr>\n",
              "    <tr>\n",
              "      <th>12206</th>\n",
              "      <td>-37.86558</td>\n",
              "      <td>3</td>\n",
              "      <td>1.0</td>\n",
              "      <td>144.90474</td>\n",
              "      <td>179.0</td>\n",
              "    </tr>\n",
              "    <tr>\n",
              "      <th>12207</th>\n",
              "      <td>-37.85588</td>\n",
              "      <td>1</td>\n",
              "      <td>1.0</td>\n",
              "      <td>144.89936</td>\n",
              "      <td>0.0</td>\n",
              "    </tr>\n",
              "    <tr>\n",
              "      <th>12209</th>\n",
              "      <td>-37.85581</td>\n",
              "      <td>2</td>\n",
              "      <td>1.0</td>\n",
              "      <td>144.99025</td>\n",
              "      <td>0.0</td>\n",
              "    </tr>\n",
              "    <tr>\n",
              "      <th>12212</th>\n",
              "      <td>-37.81038</td>\n",
              "      <td>6</td>\n",
              "      <td>3.0</td>\n",
              "      <td>144.89389</td>\n",
              "      <td>1087.0</td>\n",
              "    </tr>\n",
              "  </tbody>\n",
              "</table>\n",
              "</div>"
            ],
            "text/plain": [
              "       Lattitude  Rooms  Bathroom  Longtitude  Landsize\n",
              "12205  -37.51232      3       2.0   145.13282     972.0\n",
              "12206  -37.86558      3       1.0   144.90474     179.0\n",
              "12207  -37.85588      1       1.0   144.89936       0.0\n",
              "12209  -37.85581      2       1.0   144.99025       0.0\n",
              "12212  -37.81038      6       3.0   144.89389    1087.0"
            ]
          },
          "metadata": {},
          "execution_count": 11
        }
      ]
    },
    {
      "cell_type": "markdown",
      "metadata": {
        "id": "lohpbnsQRGL-"
      },
      "source": [
        "3. Build The Model"
      ]
    },
    {
      "cell_type": "code",
      "metadata": {
        "id": "W1PXhPh6QjYj"
      },
      "source": [
        "from sklearn.tree import DecisionTreeRegressor\n",
        "\n",
        "# Define model. Specify a number for random_state to ensure same result each run \n",
        "melbourne_model = DecisionTreeRegressor(random_state=1)"
      ],
      "execution_count": null,
      "outputs": []
    },
    {
      "cell_type": "code",
      "metadata": {
        "colab": {
          "base_uri": "https://localhost:8080/"
        },
        "id": "10fF_EV_QZWN",
        "outputId": "199cdb6a-1806-4cad-f610-4e1c1a757799"
      },
      "source": [
        "# Fit model\n",
        "melbourne_model.fit(x,y)"
      ],
      "execution_count": null,
      "outputs": [
        {
          "output_type": "execute_result",
          "data": {
            "text/plain": [
              "DecisionTreeRegressor(ccp_alpha=0.0, criterion='mse', max_depth=None,\n",
              "                      max_features=None, max_leaf_nodes=None,\n",
              "                      min_impurity_decrease=0.0, min_impurity_split=None,\n",
              "                      min_samples_leaf=1, min_samples_split=2,\n",
              "                      min_weight_fraction_leaf=0.0, presort='deprecated',\n",
              "                      random_state=1, splitter='best')"
            ]
          },
          "metadata": {},
          "execution_count": 14
        }
      ]
    },
    {
      "cell_type": "code",
      "metadata": {
        "colab": {
          "base_uri": "https://localhost:8080/"
        },
        "id": "0Ihe2KTfSPbu",
        "outputId": "9176db48-918c-4627-ea01-6d9c0e537c16"
      },
      "source": [
        "# Test the result on training data\n",
        "print(\"Making predictions for the following 5 houses:\")\n",
        "print(x.head())\n",
        "print(\"The predictions are\")\n",
        "print(melbourne_model.predict(x.head()))"
      ],
      "execution_count": null,
      "outputs": [
        {
          "output_type": "stream",
          "name": "stdout",
          "text": [
            "Making predictions for the following 5 houses:\n",
            "   Lattitude  Rooms  Bathroom  Longtitude  Landsize\n",
            "1   -37.8079      2       1.0    144.9934     156.0\n",
            "2   -37.8093      3       2.0    144.9944     134.0\n",
            "4   -37.8072      4       1.0    144.9941     120.0\n",
            "6   -37.8024      3       2.0    144.9993     245.0\n",
            "7   -37.8060      2       1.0    144.9954     256.0\n",
            "The predictions are\n",
            "[1035000. 1465000. 1600000. 1876000. 1636000.]\n"
          ]
        }
      ]
    },
    {
      "cell_type": "markdown",
      "metadata": {
        "id": "lMhako0jVS69"
      },
      "source": [
        "4. Model Validation"
      ]
    },
    {
      "cell_type": "code",
      "metadata": {
        "colab": {
          "base_uri": "https://localhost:8080/"
        },
        "id": "4pgOM8kZSPe5",
        "outputId": "f6a42fa4-a20b-4db3-bc3b-d731c46270fe"
      },
      "source": [
        "# Calculate the mean absolute error MSE:\n",
        "\n",
        "from sklearn.metrics import mean_absolute_error\n",
        "\n",
        "predicted_home_prices = melbourne_model.predict(x)\n",
        "mean_absolute_error(y, predicted_home_prices)"
      ],
      "execution_count": null,
      "outputs": [
        {
          "output_type": "execute_result",
          "data": {
            "text/plain": [
              "1115.7467183128902"
            ]
          },
          "metadata": {},
          "execution_count": 20
        }
      ]
    },
    {
      "cell_type": "code",
      "metadata": {
        "id": "yTIqovf3SPiO"
      },
      "source": [
        "# use some of that data as training data to fit the model,\n",
        "# and use the other data as validation data to calculate mean_absolute_error"
      ],
      "execution_count": null,
      "outputs": []
    },
    {
      "cell_type": "code",
      "metadata": {
        "id": "_pgfrVD4SPxk"
      },
      "source": [
        "from sklearn.model_selection import train_test_split\n",
        "\n",
        "# split data into training and validation data, for both features and target\n",
        "# The split is based on a random number generator. Supplying a numeric value to \n",
        "# the random_state argument guarantees we get the same split every time we\n",
        "# run this script \n",
        "train_x, val_x, train_y, val_y = train_test_split(x, y, random_state = 0)"
      ],
      "execution_count": null,
      "outputs": []
    },
    {
      "cell_type": "code",
      "metadata": {
        "colab": {
          "base_uri": "https://localhost:8080/"
        },
        "id": "RmXAvpCLYsZy",
        "outputId": "24f0ac27-f99f-4783-d58c-9aa8e0473b80"
      },
      "source": [
        "# Define model\n",
        "melbourne_model = DecisionTreeRegressor()\n",
        "# Fit Model\n",
        "melbourne_model.fit(train_x, train_y)"
      ],
      "execution_count": null,
      "outputs": [
        {
          "output_type": "execute_result",
          "data": {
            "text/plain": [
              "DecisionTreeRegressor(ccp_alpha=0.0, criterion='mse', max_depth=None,\n",
              "                      max_features=None, max_leaf_nodes=None,\n",
              "                      min_impurity_decrease=0.0, min_impurity_split=None,\n",
              "                      min_samples_leaf=1, min_samples_split=2,\n",
              "                      min_weight_fraction_leaf=0.0, presort='deprecated',\n",
              "                      random_state=None, splitter='best')"
            ]
          },
          "metadata": {},
          "execution_count": 25
        }
      ]
    },
    {
      "cell_type": "code",
      "metadata": {
        "colab": {
          "base_uri": "https://localhost:8080/"
        },
        "id": "PBcW5hSpYscw",
        "outputId": "9ab42bcb-d0fb-4764-fc2c-396f29e972ec"
      },
      "source": [
        "# get predicted prices on validation data \n",
        "val_predictions = melbourne_model.predict(val_x)\n",
        "print(mean_absolute_error(val_y, val_predictions))"
      ],
      "execution_count": null,
      "outputs": [
        {
          "output_type": "stream",
          "name": "stdout",
          "text": [
            "273423.9122014203\n"
          ]
        }
      ]
    },
    {
      "cell_type": "markdown",
      "metadata": {
        "id": "qWeXcMLbZ0bo"
      },
      "source": [
        "5. Underfitting and Overfitting"
      ]
    },
    {
      "cell_type": "code",
      "metadata": {
        "id": "Qw11_bswYsgG"
      },
      "source": [
        "# use a utility function to help compare MAE scores from different values for max_leaf_nodes :\n",
        "\n",
        "from sklearn.metrics import mean_absolute_error\n",
        "from sklearn.tree import DecisionTreeRegressor\n",
        "\n",
        "def get_mae(max_leaf_nodes, train_x, val_x, train_y, val_y):\n",
        "  model = DecisionTreeRegressor(max_leaf_nodes=max_leaf_nodes, random_state=0)\n",
        "  model.fit(train_x, train_y)\n",
        "  preds_val = model.predict(val_x)\n",
        "  mae = mean_absolute_error(val_y, preds_val)\n",
        "  return(mae)"
      ],
      "execution_count": null,
      "outputs": []
    },
    {
      "cell_type": "code",
      "metadata": {
        "colab": {
          "base_uri": "https://localhost:8080/"
        },
        "id": "tmrjeEakbxxw",
        "outputId": "7a0c4945-b014-471f-f248-bc5524058419"
      },
      "source": [
        "# compare MAE with differing value of max_leaf_nodes\n",
        "for max_leaf_nodes in [5, 50, 500, 5000]:\n",
        "  my_mae = get_mae(max_leaf_nodes, train_x, val_x, train_y, val_y)\n",
        "  print(\"Max leaf nodes: %d \\t\\t Mean Absolute Error: %d\" %(max_leaf_nodes, my_mae))"
      ],
      "execution_count": null,
      "outputs": [
        {
          "output_type": "stream",
          "name": "stdout",
          "text": [
            "Max leaf nodes: 5 \t\t Mean Absolute Error: 385696\n",
            "Max leaf nodes: 50 \t\t Mean Absolute Error: 279794\n",
            "Max leaf nodes: 500 \t\t Mean Absolute Error: 263656\n",
            "Max leaf nodes: 5000 \t\t Mean Absolute Error: 275719\n"
          ]
        }
      ]
    },
    {
      "cell_type": "markdown",
      "metadata": {
        "id": "R_I-jR8MgNQC"
      },
      "source": [
        "6. Random Forest Model "
      ]
    },
    {
      "cell_type": "code",
      "metadata": {
        "colab": {
          "base_uri": "https://localhost:8080/"
        },
        "id": "A16IsE-AYsi8",
        "outputId": "992d847a-b13e-4f1b-98ce-84cdffe81dc3"
      },
      "source": [
        "from sklearn.ensemble import RandomForestRegressor\n",
        "from sklearn.metrics import mean_absolute_error\n",
        "\n",
        "forest_model = RandomForestRegressor(random_state=1)\n",
        "forest_model.fit(train_x, train_y)\n",
        "melb_preds = forest_model.predict(val_x)\n",
        "print(mean_absolute_error(val_y, melb_preds))"
      ],
      "execution_count": null,
      "outputs": [
        {
          "output_type": "stream",
          "name": "stdout",
          "text": [
            "207217.3644925041\n"
          ]
        }
      ]
    },
    {
      "cell_type": "code",
      "metadata": {
        "colab": {
          "base_uri": "https://localhost:8080/"
        },
        "id": "purUI7h9YsmN",
        "outputId": "957a642d-669a-4d07-d9cb-f15614a6a696"
      },
      "source": [
        "print(\"Making Predictions for the following 10 houses:\")\n",
        "print(x.head(10))\n",
        "print(\"The predictions are\")\n",
        "print(forest_model.predict(x.head(10)))"
      ],
      "execution_count": null,
      "outputs": [
        {
          "output_type": "stream",
          "name": "stdout",
          "text": [
            "Making Predictions for the following 10 houses:\n",
            "    Lattitude  Rooms  Bathroom  Longtitude  Landsize\n",
            "1    -37.8079      2       1.0    144.9934     156.0\n",
            "2    -37.8093      3       2.0    144.9944     134.0\n",
            "4    -37.8072      4       1.0    144.9941     120.0\n",
            "6    -37.8024      3       2.0    144.9993     245.0\n",
            "7    -37.8060      2       1.0    144.9954     256.0\n",
            "9    -37.8010      2       1.0    144.9989     220.0\n",
            "11   -37.8085      3       2.0    144.9964     214.0\n",
            "12   -37.8078      2       2.0    144.9965       0.0\n",
            "15   -37.8090      2       1.0    144.9976     238.0\n",
            "16   -37.8056      3       2.0    144.9930     113.0\n",
            "The predictions are\n",
            "[1041445.         1175056.66666667 1480450.         1753480.\n",
            " 1203310.         1119630.         1432070.          780220.\n",
            " 1121000.         1185765.        ]\n"
          ]
        }
      ]
    },
    {
      "cell_type": "code",
      "metadata": {
        "colab": {
          "base_uri": "https://localhost:8080/"
        },
        "id": "3lUaRy_dYspb",
        "outputId": "f51227d6-a084-4af5-d5fd-e46d6e823b66"
      },
      "source": [
        "forest_model"
      ],
      "execution_count": null,
      "outputs": [
        {
          "output_type": "execute_result",
          "data": {
            "text/plain": [
              "RandomForestRegressor(bootstrap=True, ccp_alpha=0.0, criterion='mse',\n",
              "                      max_depth=None, max_features='auto', max_leaf_nodes=None,\n",
              "                      max_samples=None, min_impurity_decrease=0.0,\n",
              "                      min_impurity_split=None, min_samples_leaf=1,\n",
              "                      min_samples_split=2, min_weight_fraction_leaf=0.0,\n",
              "                      n_estimators=100, n_jobs=None, oob_score=False,\n",
              "                      random_state=1, verbose=0, warm_start=False)"
            ]
          },
          "metadata": {},
          "execution_count": 35
        }
      ]
    },
    {
      "cell_type": "code",
      "metadata": {
        "id": "uWDCv4BwhjcM"
      },
      "source": [
        ""
      ],
      "execution_count": null,
      "outputs": []
    }
  ]
}